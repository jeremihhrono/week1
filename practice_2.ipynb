{
  "nbformat": 4,
  "nbformat_minor": 0,
  "metadata": {
    "colab": {
      "provenance": []
    },
    "kernelspec": {
      "name": "python3",
      "display_name": "Python 3"
    },
    "language_info": {
      "name": "python"
    }
  },
  "cells": [
    {
      "cell_type": "code",
      "execution_count": 1,
      "metadata": {
        "id": "0DCXxHv_kadL"
      },
      "outputs": [],
      "source": [
        "%load_ext sql"
      ]
    },
    {
      "cell_type": "code",
      "source": [
        "%sql sqlite:///chinook.db"
      ],
      "metadata": {
        "id": "kZjq9Okokp49"
      },
      "execution_count": 2,
      "outputs": []
    },
    {
      "cell_type": "code",
      "source": [
        "%sql SELECT name FROM sqlite_master WHERE type='table';"
      ],
      "metadata": {
        "colab": {
          "base_uri": "https://localhost:8080/",
          "height": 353
        },
        "id": "gBvB4TvSk3SO",
        "outputId": "b3104bb4-6481-4232-e2ae-72ed9983cd25"
      },
      "execution_count": 3,
      "outputs": [
        {
          "output_type": "stream",
          "name": "stdout",
          "text": [
            " * sqlite:///chinook.db\n",
            "Done.\n"
          ]
        },
        {
          "output_type": "execute_result",
          "data": {
            "text/plain": [
              "[('albums',),\n",
              " ('sqlite_sequence',),\n",
              " ('artists',),\n",
              " ('customers',),\n",
              " ('employees',),\n",
              " ('genres',),\n",
              " ('invoices',),\n",
              " ('invoice_items',),\n",
              " ('media_types',),\n",
              " ('playlists',),\n",
              " ('playlist_track',),\n",
              " ('tracks',),\n",
              " ('sqlite_stat1',)]"
            ],
            "text/html": [
              "<table>\n",
              "    <thead>\n",
              "        <tr>\n",
              "            <th>name</th>\n",
              "        </tr>\n",
              "    </thead>\n",
              "    <tbody>\n",
              "        <tr>\n",
              "            <td>albums</td>\n",
              "        </tr>\n",
              "        <tr>\n",
              "            <td>sqlite_sequence</td>\n",
              "        </tr>\n",
              "        <tr>\n",
              "            <td>artists</td>\n",
              "        </tr>\n",
              "        <tr>\n",
              "            <td>customers</td>\n",
              "        </tr>\n",
              "        <tr>\n",
              "            <td>employees</td>\n",
              "        </tr>\n",
              "        <tr>\n",
              "            <td>genres</td>\n",
              "        </tr>\n",
              "        <tr>\n",
              "            <td>invoices</td>\n",
              "        </tr>\n",
              "        <tr>\n",
              "            <td>invoice_items</td>\n",
              "        </tr>\n",
              "        <tr>\n",
              "            <td>media_types</td>\n",
              "        </tr>\n",
              "        <tr>\n",
              "            <td>playlists</td>\n",
              "        </tr>\n",
              "        <tr>\n",
              "            <td>playlist_track</td>\n",
              "        </tr>\n",
              "        <tr>\n",
              "            <td>tracks</td>\n",
              "        </tr>\n",
              "        <tr>\n",
              "            <td>sqlite_stat1</td>\n",
              "        </tr>\n",
              "    </tbody>\n",
              "</table>"
            ]
          },
          "metadata": {},
          "execution_count": 3
        }
      ]
    },
    {
      "cell_type": "code",
      "source": [
        "%sql PRAGMA table_info(playlists);"
      ],
      "metadata": {
        "colab": {
          "base_uri": "https://localhost:8080/",
          "height": 118
        },
        "id": "UVGrQOQAlLXY",
        "outputId": "28287a83-5ac3-4716-cf67-4bd006aab3f7"
      },
      "execution_count": 4,
      "outputs": [
        {
          "output_type": "stream",
          "name": "stdout",
          "text": [
            " * sqlite:///chinook.db\n",
            "Done.\n"
          ]
        },
        {
          "output_type": "execute_result",
          "data": {
            "text/plain": [
              "[(0, 'PlaylistId', 'INTEGER', 1, None, 1),\n",
              " (1, 'Name', 'NVARCHAR(120)', 0, None, 0)]"
            ],
            "text/html": [
              "<table>\n",
              "    <thead>\n",
              "        <tr>\n",
              "            <th>cid</th>\n",
              "            <th>name</th>\n",
              "            <th>type</th>\n",
              "            <th>notnull</th>\n",
              "            <th>dflt_value</th>\n",
              "            <th>pk</th>\n",
              "        </tr>\n",
              "    </thead>\n",
              "    <tbody>\n",
              "        <tr>\n",
              "            <td>0</td>\n",
              "            <td>PlaylistId</td>\n",
              "            <td>INTEGER</td>\n",
              "            <td>1</td>\n",
              "            <td>None</td>\n",
              "            <td>1</td>\n",
              "        </tr>\n",
              "        <tr>\n",
              "            <td>1</td>\n",
              "            <td>Name</td>\n",
              "            <td>NVARCHAR(120)</td>\n",
              "            <td>0</td>\n",
              "            <td>None</td>\n",
              "            <td>0</td>\n",
              "        </tr>\n",
              "    </tbody>\n",
              "</table>"
            ]
          },
          "metadata": {},
          "execution_count": 4
        }
      ]
    },
    {
      "cell_type": "code",
      "source": [
        "%sql PRAGMA table_info(tracks);"
      ],
      "metadata": {
        "colab": {
          "base_uri": "https://localhost:8080/",
          "height": 267
        },
        "id": "PefQ6cb9lZ6i",
        "outputId": "acaa807d-b661-4a47-eb03-680e6b214417"
      },
      "execution_count": 5,
      "outputs": [
        {
          "output_type": "stream",
          "name": "stdout",
          "text": [
            " * sqlite:///chinook.db\n",
            "Done.\n"
          ]
        },
        {
          "output_type": "execute_result",
          "data": {
            "text/plain": [
              "[(0, 'TrackId', 'INTEGER', 1, None, 1),\n",
              " (1, 'Name', 'NVARCHAR(200)', 1, None, 0),\n",
              " (2, 'AlbumId', 'INTEGER', 0, None, 0),\n",
              " (3, 'MediaTypeId', 'INTEGER', 1, None, 0),\n",
              " (4, 'GenreId', 'INTEGER', 0, None, 0),\n",
              " (5, 'Composer', 'NVARCHAR(220)', 0, None, 0),\n",
              " (6, 'Milliseconds', 'INTEGER', 1, None, 0),\n",
              " (7, 'Bytes', 'INTEGER', 0, None, 0),\n",
              " (8, 'UnitPrice', 'NUMERIC(10,2)', 1, None, 0)]"
            ],
            "text/html": [
              "<table>\n",
              "    <thead>\n",
              "        <tr>\n",
              "            <th>cid</th>\n",
              "            <th>name</th>\n",
              "            <th>type</th>\n",
              "            <th>notnull</th>\n",
              "            <th>dflt_value</th>\n",
              "            <th>pk</th>\n",
              "        </tr>\n",
              "    </thead>\n",
              "    <tbody>\n",
              "        <tr>\n",
              "            <td>0</td>\n",
              "            <td>TrackId</td>\n",
              "            <td>INTEGER</td>\n",
              "            <td>1</td>\n",
              "            <td>None</td>\n",
              "            <td>1</td>\n",
              "        </tr>\n",
              "        <tr>\n",
              "            <td>1</td>\n",
              "            <td>Name</td>\n",
              "            <td>NVARCHAR(200)</td>\n",
              "            <td>1</td>\n",
              "            <td>None</td>\n",
              "            <td>0</td>\n",
              "        </tr>\n",
              "        <tr>\n",
              "            <td>2</td>\n",
              "            <td>AlbumId</td>\n",
              "            <td>INTEGER</td>\n",
              "            <td>0</td>\n",
              "            <td>None</td>\n",
              "            <td>0</td>\n",
              "        </tr>\n",
              "        <tr>\n",
              "            <td>3</td>\n",
              "            <td>MediaTypeId</td>\n",
              "            <td>INTEGER</td>\n",
              "            <td>1</td>\n",
              "            <td>None</td>\n",
              "            <td>0</td>\n",
              "        </tr>\n",
              "        <tr>\n",
              "            <td>4</td>\n",
              "            <td>GenreId</td>\n",
              "            <td>INTEGER</td>\n",
              "            <td>0</td>\n",
              "            <td>None</td>\n",
              "            <td>0</td>\n",
              "        </tr>\n",
              "        <tr>\n",
              "            <td>5</td>\n",
              "            <td>Composer</td>\n",
              "            <td>NVARCHAR(220)</td>\n",
              "            <td>0</td>\n",
              "            <td>None</td>\n",
              "            <td>0</td>\n",
              "        </tr>\n",
              "        <tr>\n",
              "            <td>6</td>\n",
              "            <td>Milliseconds</td>\n",
              "            <td>INTEGER</td>\n",
              "            <td>1</td>\n",
              "            <td>None</td>\n",
              "            <td>0</td>\n",
              "        </tr>\n",
              "        <tr>\n",
              "            <td>7</td>\n",
              "            <td>Bytes</td>\n",
              "            <td>INTEGER</td>\n",
              "            <td>0</td>\n",
              "            <td>None</td>\n",
              "            <td>0</td>\n",
              "        </tr>\n",
              "        <tr>\n",
              "            <td>8</td>\n",
              "            <td>UnitPrice</td>\n",
              "            <td>NUMERIC(10,2)</td>\n",
              "            <td>1</td>\n",
              "            <td>None</td>\n",
              "            <td>0</td>\n",
              "        </tr>\n",
              "    </tbody>\n",
              "</table>"
            ]
          },
          "metadata": {},
          "execution_count": 5
        }
      ]
    },
    {
      "cell_type": "code",
      "source": [
        "%sql PRAGMA table_info(customers);"
      ],
      "metadata": {
        "colab": {
          "base_uri": "https://localhost:8080/",
          "height": 353
        },
        "id": "jpFouL7dli8R",
        "outputId": "ead3b5b1-f375-4936-cc56-f31419d3aa18"
      },
      "execution_count": 6,
      "outputs": [
        {
          "output_type": "stream",
          "name": "stdout",
          "text": [
            " * sqlite:///chinook.db\n",
            "Done.\n"
          ]
        },
        {
          "output_type": "execute_result",
          "data": {
            "text/plain": [
              "[(0, 'CustomerId', 'INTEGER', 1, None, 1),\n",
              " (1, 'FirstName', 'NVARCHAR(40)', 1, None, 0),\n",
              " (2, 'LastName', 'NVARCHAR(20)', 1, None, 0),\n",
              " (3, 'Company', 'NVARCHAR(80)', 0, None, 0),\n",
              " (4, 'Address', 'NVARCHAR(70)', 0, None, 0),\n",
              " (5, 'City', 'NVARCHAR(40)', 0, None, 0),\n",
              " (6, 'State', 'NVARCHAR(40)', 0, None, 0),\n",
              " (7, 'Country', 'NVARCHAR(40)', 0, None, 0),\n",
              " (8, 'PostalCode', 'NVARCHAR(10)', 0, None, 0),\n",
              " (9, 'Phone', 'NVARCHAR(24)', 0, None, 0),\n",
              " (10, 'Fax', 'NVARCHAR(24)', 0, None, 0),\n",
              " (11, 'Email', 'NVARCHAR(60)', 1, None, 0),\n",
              " (12, 'SupportRepId', 'INTEGER', 0, None, 0)]"
            ],
            "text/html": [
              "<table>\n",
              "    <thead>\n",
              "        <tr>\n",
              "            <th>cid</th>\n",
              "            <th>name</th>\n",
              "            <th>type</th>\n",
              "            <th>notnull</th>\n",
              "            <th>dflt_value</th>\n",
              "            <th>pk</th>\n",
              "        </tr>\n",
              "    </thead>\n",
              "    <tbody>\n",
              "        <tr>\n",
              "            <td>0</td>\n",
              "            <td>CustomerId</td>\n",
              "            <td>INTEGER</td>\n",
              "            <td>1</td>\n",
              "            <td>None</td>\n",
              "            <td>1</td>\n",
              "        </tr>\n",
              "        <tr>\n",
              "            <td>1</td>\n",
              "            <td>FirstName</td>\n",
              "            <td>NVARCHAR(40)</td>\n",
              "            <td>1</td>\n",
              "            <td>None</td>\n",
              "            <td>0</td>\n",
              "        </tr>\n",
              "        <tr>\n",
              "            <td>2</td>\n",
              "            <td>LastName</td>\n",
              "            <td>NVARCHAR(20)</td>\n",
              "            <td>1</td>\n",
              "            <td>None</td>\n",
              "            <td>0</td>\n",
              "        </tr>\n",
              "        <tr>\n",
              "            <td>3</td>\n",
              "            <td>Company</td>\n",
              "            <td>NVARCHAR(80)</td>\n",
              "            <td>0</td>\n",
              "            <td>None</td>\n",
              "            <td>0</td>\n",
              "        </tr>\n",
              "        <tr>\n",
              "            <td>4</td>\n",
              "            <td>Address</td>\n",
              "            <td>NVARCHAR(70)</td>\n",
              "            <td>0</td>\n",
              "            <td>None</td>\n",
              "            <td>0</td>\n",
              "        </tr>\n",
              "        <tr>\n",
              "            <td>5</td>\n",
              "            <td>City</td>\n",
              "            <td>NVARCHAR(40)</td>\n",
              "            <td>0</td>\n",
              "            <td>None</td>\n",
              "            <td>0</td>\n",
              "        </tr>\n",
              "        <tr>\n",
              "            <td>6</td>\n",
              "            <td>State</td>\n",
              "            <td>NVARCHAR(40)</td>\n",
              "            <td>0</td>\n",
              "            <td>None</td>\n",
              "            <td>0</td>\n",
              "        </tr>\n",
              "        <tr>\n",
              "            <td>7</td>\n",
              "            <td>Country</td>\n",
              "            <td>NVARCHAR(40)</td>\n",
              "            <td>0</td>\n",
              "            <td>None</td>\n",
              "            <td>0</td>\n",
              "        </tr>\n",
              "        <tr>\n",
              "            <td>8</td>\n",
              "            <td>PostalCode</td>\n",
              "            <td>NVARCHAR(10)</td>\n",
              "            <td>0</td>\n",
              "            <td>None</td>\n",
              "            <td>0</td>\n",
              "        </tr>\n",
              "        <tr>\n",
              "            <td>9</td>\n",
              "            <td>Phone</td>\n",
              "            <td>NVARCHAR(24)</td>\n",
              "            <td>0</td>\n",
              "            <td>None</td>\n",
              "            <td>0</td>\n",
              "        </tr>\n",
              "        <tr>\n",
              "            <td>10</td>\n",
              "            <td>Fax</td>\n",
              "            <td>NVARCHAR(24)</td>\n",
              "            <td>0</td>\n",
              "            <td>None</td>\n",
              "            <td>0</td>\n",
              "        </tr>\n",
              "        <tr>\n",
              "            <td>11</td>\n",
              "            <td>Email</td>\n",
              "            <td>NVARCHAR(60)</td>\n",
              "            <td>1</td>\n",
              "            <td>None</td>\n",
              "            <td>0</td>\n",
              "        </tr>\n",
              "        <tr>\n",
              "            <td>12</td>\n",
              "            <td>SupportRepId</td>\n",
              "            <td>INTEGER</td>\n",
              "            <td>0</td>\n",
              "            <td>None</td>\n",
              "            <td>0</td>\n",
              "        </tr>\n",
              "    </tbody>\n",
              "</table>"
            ]
          },
          "metadata": {},
          "execution_count": 6
        }
      ]
    },
    {
      "cell_type": "code",
      "source": [
        "%sql SELECT * FROM customers LIMIT 6;"
      ],
      "metadata": {
        "colab": {
          "base_uri": "https://localhost:8080/",
          "height": 359
        },
        "id": "6UYHhFH9ltKu",
        "outputId": "4e6d8aab-187b-422b-87e6-bc10d288d4c5"
      },
      "execution_count": 7,
      "outputs": [
        {
          "output_type": "stream",
          "name": "stdout",
          "text": [
            " * sqlite:///chinook.db\n",
            "Done.\n"
          ]
        },
        {
          "output_type": "execute_result",
          "data": {
            "text/plain": [
              "[(1, 'Luís', 'Gonçalves', 'Embraer - Empresa Brasileira de Aeronáutica S.A.', 'Av. Brigadeiro Faria Lima, 2170', 'São José dos Campos', 'SP', 'Brazil', '12227-000', '+55 (12) 3923-5555', '+55 (12) 3923-5566', 'luisg@embraer.com.br', 3),\n",
              " (2, 'Leonie', 'Köhler', None, 'Theodor-Heuss-Straße 34', 'Stuttgart', None, 'Germany', '70174', '+49 0711 2842222', None, 'leonekohler@surfeu.de', 5),\n",
              " (3, 'François', 'Tremblay', None, '1498 rue Bélanger', 'Montréal', 'QC', 'Canada', 'H2G 1A7', '+1 (514) 721-4711', None, 'ftremblay@gmail.com', 3),\n",
              " (4, 'Bjørn', 'Hansen', None, 'Ullevålsveien 14', 'Oslo', None, 'Norway', '0171', '+47 22 44 22 22', None, 'bjorn.hansen@yahoo.no', 4),\n",
              " (5, 'František', 'Wichterlová', 'JetBrains s.r.o.', 'Klanova 9/506', 'Prague', None, 'Czech Republic', '14700', '+420 2 4172 5555', '+420 2 4172 5555', 'frantisekw@jetbrains.com', 4),\n",
              " (6, 'Helena', 'Holý', None, 'Rilská 3174/6', 'Prague', None, 'Czech Republic', '14300', '+420 2 4177 0449', None, 'hholy@gmail.com', 5)]"
            ],
            "text/html": [
              "<table>\n",
              "    <thead>\n",
              "        <tr>\n",
              "            <th>CustomerId</th>\n",
              "            <th>FirstName</th>\n",
              "            <th>LastName</th>\n",
              "            <th>Company</th>\n",
              "            <th>Address</th>\n",
              "            <th>City</th>\n",
              "            <th>State</th>\n",
              "            <th>Country</th>\n",
              "            <th>PostalCode</th>\n",
              "            <th>Phone</th>\n",
              "            <th>Fax</th>\n",
              "            <th>Email</th>\n",
              "            <th>SupportRepId</th>\n",
              "        </tr>\n",
              "    </thead>\n",
              "    <tbody>\n",
              "        <tr>\n",
              "            <td>1</td>\n",
              "            <td>Luís</td>\n",
              "            <td>Gonçalves</td>\n",
              "            <td>Embraer - Empresa Brasileira de Aeronáutica S.A.</td>\n",
              "            <td>Av. Brigadeiro Faria Lima, 2170</td>\n",
              "            <td>São José dos Campos</td>\n",
              "            <td>SP</td>\n",
              "            <td>Brazil</td>\n",
              "            <td>12227-000</td>\n",
              "            <td>+55 (12) 3923-5555</td>\n",
              "            <td>+55 (12) 3923-5566</td>\n",
              "            <td>luisg@embraer.com.br</td>\n",
              "            <td>3</td>\n",
              "        </tr>\n",
              "        <tr>\n",
              "            <td>2</td>\n",
              "            <td>Leonie</td>\n",
              "            <td>Köhler</td>\n",
              "            <td>None</td>\n",
              "            <td>Theodor-Heuss-Straße 34</td>\n",
              "            <td>Stuttgart</td>\n",
              "            <td>None</td>\n",
              "            <td>Germany</td>\n",
              "            <td>70174</td>\n",
              "            <td>+49 0711 2842222</td>\n",
              "            <td>None</td>\n",
              "            <td>leonekohler@surfeu.de</td>\n",
              "            <td>5</td>\n",
              "        </tr>\n",
              "        <tr>\n",
              "            <td>3</td>\n",
              "            <td>François</td>\n",
              "            <td>Tremblay</td>\n",
              "            <td>None</td>\n",
              "            <td>1498 rue Bélanger</td>\n",
              "            <td>Montréal</td>\n",
              "            <td>QC</td>\n",
              "            <td>Canada</td>\n",
              "            <td>H2G 1A7</td>\n",
              "            <td>+1 (514) 721-4711</td>\n",
              "            <td>None</td>\n",
              "            <td>ftremblay@gmail.com</td>\n",
              "            <td>3</td>\n",
              "        </tr>\n",
              "        <tr>\n",
              "            <td>4</td>\n",
              "            <td>Bjørn</td>\n",
              "            <td>Hansen</td>\n",
              "            <td>None</td>\n",
              "            <td>Ullevålsveien 14</td>\n",
              "            <td>Oslo</td>\n",
              "            <td>None</td>\n",
              "            <td>Norway</td>\n",
              "            <td>0171</td>\n",
              "            <td>+47 22 44 22 22</td>\n",
              "            <td>None</td>\n",
              "            <td>bjorn.hansen@yahoo.no</td>\n",
              "            <td>4</td>\n",
              "        </tr>\n",
              "        <tr>\n",
              "            <td>5</td>\n",
              "            <td>František</td>\n",
              "            <td>Wichterlová</td>\n",
              "            <td>JetBrains s.r.o.</td>\n",
              "            <td>Klanova 9/506</td>\n",
              "            <td>Prague</td>\n",
              "            <td>None</td>\n",
              "            <td>Czech Republic</td>\n",
              "            <td>14700</td>\n",
              "            <td>+420 2 4172 5555</td>\n",
              "            <td>+420 2 4172 5555</td>\n",
              "            <td>frantisekw@jetbrains.com</td>\n",
              "            <td>4</td>\n",
              "        </tr>\n",
              "        <tr>\n",
              "            <td>6</td>\n",
              "            <td>Helena</td>\n",
              "            <td>Holý</td>\n",
              "            <td>None</td>\n",
              "            <td>Rilská 3174/6</td>\n",
              "            <td>Prague</td>\n",
              "            <td>None</td>\n",
              "            <td>Czech Republic</td>\n",
              "            <td>14300</td>\n",
              "            <td>+420 2 4177 0449</td>\n",
              "            <td>None</td>\n",
              "            <td>hholy@gmail.com</td>\n",
              "            <td>5</td>\n",
              "        </tr>\n",
              "    </tbody>\n",
              "</table>"
            ]
          },
          "metadata": {},
          "execution_count": 7
        }
      ]
    },
    {
      "cell_type": "code",
      "source": [
        "%sql SELECT * FROM tracks LIMIT 7;"
      ],
      "metadata": {
        "colab": {
          "base_uri": "https://localhost:8080/",
          "height": 259
        },
        "id": "FMZwNVdvl6uF",
        "outputId": "926aa104-e8ee-4e0d-ac9b-cdf71326d7d3"
      },
      "execution_count": 8,
      "outputs": [
        {
          "output_type": "stream",
          "name": "stdout",
          "text": [
            " * sqlite:///chinook.db\n",
            "Done.\n"
          ]
        },
        {
          "output_type": "execute_result",
          "data": {
            "text/plain": [
              "[(1, 'For Those About To Rock (We Salute You)', 1, 1, 1, 'Angus Young, Malcolm Young, Brian Johnson', 343719, 11170334, 0.99),\n",
              " (2, 'Balls to the Wall', 2, 2, 1, None, 342562, 5510424, 0.99),\n",
              " (3, 'Fast As a Shark', 3, 2, 1, 'F. Baltes, S. Kaufman, U. Dirkscneider & W. Hoffman', 230619, 3990994, 0.99),\n",
              " (4, 'Restless and Wild', 3, 2, 1, 'F. Baltes, R.A. Smith-Diesel, S. Kaufman, U. Dirkscneider & W. Hoffman', 252051, 4331779, 0.99),\n",
              " (5, 'Princess of the Dawn', 3, 2, 1, 'Deaffy & R.A. Smith-Diesel', 375418, 6290521, 0.99),\n",
              " (6, 'Put The Finger On You', 1, 1, 1, 'Angus Young, Malcolm Young, Brian Johnson', 205662, 6713451, 0.99),\n",
              " (7, \"Let's Get It Up\", 1, 1, 1, 'Angus Young, Malcolm Young, Brian Johnson', 233926, 7636561, 0.99)]"
            ],
            "text/html": [
              "<table>\n",
              "    <thead>\n",
              "        <tr>\n",
              "            <th>TrackId</th>\n",
              "            <th>Name</th>\n",
              "            <th>AlbumId</th>\n",
              "            <th>MediaTypeId</th>\n",
              "            <th>GenreId</th>\n",
              "            <th>Composer</th>\n",
              "            <th>Milliseconds</th>\n",
              "            <th>Bytes</th>\n",
              "            <th>UnitPrice</th>\n",
              "        </tr>\n",
              "    </thead>\n",
              "    <tbody>\n",
              "        <tr>\n",
              "            <td>1</td>\n",
              "            <td>For Those About To Rock (We Salute You)</td>\n",
              "            <td>1</td>\n",
              "            <td>1</td>\n",
              "            <td>1</td>\n",
              "            <td>Angus Young, Malcolm Young, Brian Johnson</td>\n",
              "            <td>343719</td>\n",
              "            <td>11170334</td>\n",
              "            <td>0.99</td>\n",
              "        </tr>\n",
              "        <tr>\n",
              "            <td>2</td>\n",
              "            <td>Balls to the Wall</td>\n",
              "            <td>2</td>\n",
              "            <td>2</td>\n",
              "            <td>1</td>\n",
              "            <td>None</td>\n",
              "            <td>342562</td>\n",
              "            <td>5510424</td>\n",
              "            <td>0.99</td>\n",
              "        </tr>\n",
              "        <tr>\n",
              "            <td>3</td>\n",
              "            <td>Fast As a Shark</td>\n",
              "            <td>3</td>\n",
              "            <td>2</td>\n",
              "            <td>1</td>\n",
              "            <td>F. Baltes, S. Kaufman, U. Dirkscneider &amp; W. Hoffman</td>\n",
              "            <td>230619</td>\n",
              "            <td>3990994</td>\n",
              "            <td>0.99</td>\n",
              "        </tr>\n",
              "        <tr>\n",
              "            <td>4</td>\n",
              "            <td>Restless and Wild</td>\n",
              "            <td>3</td>\n",
              "            <td>2</td>\n",
              "            <td>1</td>\n",
              "            <td>F. Baltes, R.A. Smith-Diesel, S. Kaufman, U. Dirkscneider &amp; W. Hoffman</td>\n",
              "            <td>252051</td>\n",
              "            <td>4331779</td>\n",
              "            <td>0.99</td>\n",
              "        </tr>\n",
              "        <tr>\n",
              "            <td>5</td>\n",
              "            <td>Princess of the Dawn</td>\n",
              "            <td>3</td>\n",
              "            <td>2</td>\n",
              "            <td>1</td>\n",
              "            <td>Deaffy &amp; R.A. Smith-Diesel</td>\n",
              "            <td>375418</td>\n",
              "            <td>6290521</td>\n",
              "            <td>0.99</td>\n",
              "        </tr>\n",
              "        <tr>\n",
              "            <td>6</td>\n",
              "            <td>Put The Finger On You</td>\n",
              "            <td>1</td>\n",
              "            <td>1</td>\n",
              "            <td>1</td>\n",
              "            <td>Angus Young, Malcolm Young, Brian Johnson</td>\n",
              "            <td>205662</td>\n",
              "            <td>6713451</td>\n",
              "            <td>0.99</td>\n",
              "        </tr>\n",
              "        <tr>\n",
              "            <td>7</td>\n",
              "            <td>Let&#x27;s Get It Up</td>\n",
              "            <td>1</td>\n",
              "            <td>1</td>\n",
              "            <td>1</td>\n",
              "            <td>Angus Young, Malcolm Young, Brian Johnson</td>\n",
              "            <td>233926</td>\n",
              "            <td>7636561</td>\n",
              "            <td>0.99</td>\n",
              "        </tr>\n",
              "    </tbody>\n",
              "</table>"
            ]
          },
          "metadata": {},
          "execution_count": 8
        }
      ]
    },
    {
      "cell_type": "code",
      "source": [
        "%sql SELECT * FROM artists LIMIT 4;"
      ],
      "metadata": {
        "colab": {
          "base_uri": "https://localhost:8080/",
          "height": 160
        },
        "id": "veMS7lxNmKRk",
        "outputId": "a9d8571e-c010-45e3-ab6c-418a34e6da52"
      },
      "execution_count": 9,
      "outputs": [
        {
          "output_type": "stream",
          "name": "stdout",
          "text": [
            " * sqlite:///chinook.db\n",
            "Done.\n"
          ]
        },
        {
          "output_type": "execute_result",
          "data": {
            "text/plain": [
              "[(1, 'AC/DC'), (2, 'Accept'), (3, 'Aerosmith'), (4, 'Alanis Morissette')]"
            ],
            "text/html": [
              "<table>\n",
              "    <thead>\n",
              "        <tr>\n",
              "            <th>ArtistId</th>\n",
              "            <th>Name</th>\n",
              "        </tr>\n",
              "    </thead>\n",
              "    <tbody>\n",
              "        <tr>\n",
              "            <td>1</td>\n",
              "            <td>AC/DC</td>\n",
              "        </tr>\n",
              "        <tr>\n",
              "            <td>2</td>\n",
              "            <td>Accept</td>\n",
              "        </tr>\n",
              "        <tr>\n",
              "            <td>3</td>\n",
              "            <td>Aerosmith</td>\n",
              "        </tr>\n",
              "        <tr>\n",
              "            <td>4</td>\n",
              "            <td>Alanis Morissette</td>\n",
              "        </tr>\n",
              "    </tbody>\n",
              "</table>"
            ]
          },
          "metadata": {},
          "execution_count": 9
        }
      ]
    },
    {
      "cell_type": "code",
      "source": [
        "%sql SELECT Name FROM tracks LIMIT 6;"
      ],
      "metadata": {
        "colab": {
          "base_uri": "https://localhost:8080/",
          "height": 203
        },
        "id": "UHnzQZT4maX9",
        "outputId": "f83484d8-1767-48ae-9633-50ff04449581"
      },
      "execution_count": 10,
      "outputs": [
        {
          "output_type": "stream",
          "name": "stdout",
          "text": [
            " * sqlite:///chinook.db\n",
            "Done.\n"
          ]
        },
        {
          "output_type": "execute_result",
          "data": {
            "text/plain": [
              "[('For Those About To Rock (We Salute You)',),\n",
              " ('Balls to the Wall',),\n",
              " ('Fast As a Shark',),\n",
              " ('Restless and Wild',),\n",
              " ('Princess of the Dawn',),\n",
              " ('Put The Finger On You',)]"
            ],
            "text/html": [
              "<table>\n",
              "    <thead>\n",
              "        <tr>\n",
              "            <th>Name</th>\n",
              "        </tr>\n",
              "    </thead>\n",
              "    <tbody>\n",
              "        <tr>\n",
              "            <td>For Those About To Rock (We Salute You)</td>\n",
              "        </tr>\n",
              "        <tr>\n",
              "            <td>Balls to the Wall</td>\n",
              "        </tr>\n",
              "        <tr>\n",
              "            <td>Fast As a Shark</td>\n",
              "        </tr>\n",
              "        <tr>\n",
              "            <td>Restless and Wild</td>\n",
              "        </tr>\n",
              "        <tr>\n",
              "            <td>Princess of the Dawn</td>\n",
              "        </tr>\n",
              "        <tr>\n",
              "            <td>Put The Finger On You</td>\n",
              "        </tr>\n",
              "    </tbody>\n",
              "</table>"
            ]
          },
          "metadata": {},
          "execution_count": 10
        }
      ]
    },
    {
      "cell_type": "code",
      "source": [
        "%sql SELECT Phone FROM customers LIMIT 8;"
      ],
      "metadata": {
        "colab": {
          "base_uri": "https://localhost:8080/",
          "height": 246
        },
        "id": "7TKg0QMDmsD1",
        "outputId": "15f291da-1b97-448f-e050-d69fad803c26"
      },
      "execution_count": 11,
      "outputs": [
        {
          "output_type": "stream",
          "name": "stdout",
          "text": [
            " * sqlite:///chinook.db\n",
            "Done.\n"
          ]
        },
        {
          "output_type": "execute_result",
          "data": {
            "text/plain": [
              "[('+55 (12) 3923-5555',),\n",
              " ('+49 0711 2842222',),\n",
              " ('+1 (514) 721-4711',),\n",
              " ('+47 22 44 22 22',),\n",
              " ('+420 2 4172 5555',),\n",
              " ('+420 2 4177 0449',),\n",
              " ('+43 01 5134505',),\n",
              " ('+32 02 219 03 03',)]"
            ],
            "text/html": [
              "<table>\n",
              "    <thead>\n",
              "        <tr>\n",
              "            <th>Phone</th>\n",
              "        </tr>\n",
              "    </thead>\n",
              "    <tbody>\n",
              "        <tr>\n",
              "            <td>+55 (12) 3923-5555</td>\n",
              "        </tr>\n",
              "        <tr>\n",
              "            <td>+49 0711 2842222</td>\n",
              "        </tr>\n",
              "        <tr>\n",
              "            <td>+1 (514) 721-4711</td>\n",
              "        </tr>\n",
              "        <tr>\n",
              "            <td>+47 22 44 22 22</td>\n",
              "        </tr>\n",
              "        <tr>\n",
              "            <td>+420 2 4172 5555</td>\n",
              "        </tr>\n",
              "        <tr>\n",
              "            <td>+420 2 4177 0449</td>\n",
              "        </tr>\n",
              "        <tr>\n",
              "            <td>+43 01 5134505</td>\n",
              "        </tr>\n",
              "        <tr>\n",
              "            <td>+32 02 219 03 03</td>\n",
              "        </tr>\n",
              "    </tbody>\n",
              "</table>"
            ]
          },
          "metadata": {},
          "execution_count": 11
        }
      ]
    },
    {
      "cell_type": "code",
      "source": [
        "%sql SELECT Address FROM customers LIMIT 7;"
      ],
      "metadata": {
        "colab": {
          "base_uri": "https://localhost:8080/",
          "height": 225
        },
        "id": "XmAUcEFEm6Bd",
        "outputId": "489d0bce-ee54-4f47-c397-49c4d0f49b5f"
      },
      "execution_count": 12,
      "outputs": [
        {
          "output_type": "stream",
          "name": "stdout",
          "text": [
            " * sqlite:///chinook.db\n",
            "Done.\n"
          ]
        },
        {
          "output_type": "execute_result",
          "data": {
            "text/plain": [
              "[('Av. Brigadeiro Faria Lima, 2170',),\n",
              " ('Theodor-Heuss-Straße 34',),\n",
              " ('1498 rue Bélanger',),\n",
              " ('Ullevålsveien 14',),\n",
              " ('Klanova 9/506',),\n",
              " ('Rilská 3174/6',),\n",
              " ('Rotenturmstraße 4, 1010 Innere Stadt',)]"
            ],
            "text/html": [
              "<table>\n",
              "    <thead>\n",
              "        <tr>\n",
              "            <th>Address</th>\n",
              "        </tr>\n",
              "    </thead>\n",
              "    <tbody>\n",
              "        <tr>\n",
              "            <td>Av. Brigadeiro Faria Lima, 2170</td>\n",
              "        </tr>\n",
              "        <tr>\n",
              "            <td>Theodor-Heuss-Straße 34</td>\n",
              "        </tr>\n",
              "        <tr>\n",
              "            <td>1498 rue Bélanger</td>\n",
              "        </tr>\n",
              "        <tr>\n",
              "            <td>Ullevålsveien 14</td>\n",
              "        </tr>\n",
              "        <tr>\n",
              "            <td>Klanova 9/506</td>\n",
              "        </tr>\n",
              "        <tr>\n",
              "            <td>Rilská 3174/6</td>\n",
              "        </tr>\n",
              "        <tr>\n",
              "            <td>Rotenturmstraße 4, 1010 Innere Stadt</td>\n",
              "        </tr>\n",
              "    </tbody>\n",
              "</table>"
            ]
          },
          "metadata": {},
          "execution_count": 12
        }
      ]
    },
    {
      "cell_type": "code",
      "source": [
        "%sql SELECT City FROM customers LIMIT 8;"
      ],
      "metadata": {
        "colab": {
          "base_uri": "https://localhost:8080/",
          "height": 246
        },
        "id": "2KscPPLhnE0Q",
        "outputId": "9864a24a-2e34-41b8-9149-b37a5eaf3298"
      },
      "execution_count": 13,
      "outputs": [
        {
          "output_type": "stream",
          "name": "stdout",
          "text": [
            " * sqlite:///chinook.db\n",
            "Done.\n"
          ]
        },
        {
          "output_type": "execute_result",
          "data": {
            "text/plain": [
              "[('São José dos Campos',),\n",
              " ('Stuttgart',),\n",
              " ('Montréal',),\n",
              " ('Oslo',),\n",
              " ('Prague',),\n",
              " ('Prague',),\n",
              " ('Vienne',),\n",
              " ('Brussels',)]"
            ],
            "text/html": [
              "<table>\n",
              "    <thead>\n",
              "        <tr>\n",
              "            <th>City</th>\n",
              "        </tr>\n",
              "    </thead>\n",
              "    <tbody>\n",
              "        <tr>\n",
              "            <td>São José dos Campos</td>\n",
              "        </tr>\n",
              "        <tr>\n",
              "            <td>Stuttgart</td>\n",
              "        </tr>\n",
              "        <tr>\n",
              "            <td>Montréal</td>\n",
              "        </tr>\n",
              "        <tr>\n",
              "            <td>Oslo</td>\n",
              "        </tr>\n",
              "        <tr>\n",
              "            <td>Prague</td>\n",
              "        </tr>\n",
              "        <tr>\n",
              "            <td>Prague</td>\n",
              "        </tr>\n",
              "        <tr>\n",
              "            <td>Vienne</td>\n",
              "        </tr>\n",
              "        <tr>\n",
              "            <td>Brussels</td>\n",
              "        </tr>\n",
              "    </tbody>\n",
              "</table>"
            ]
          },
          "metadata": {},
          "execution_count": 13
        }
      ]
    },
    {
      "cell_type": "code",
      "source": [
        "%%sql CREATE TABLE lecture(\n",
        "    First_Name VARCHAR(20),\n",
        "    Last_Name VARCHAR(20),\n",
        "    Department VARCHAR(30),\n",
        "    Salary INT (15),\n",
        "    Worker_Id INT NOT NULL PRIMARY KEY,\n",
        "    Age INT(3)\n",
        ");"
      ],
      "metadata": {
        "colab": {
          "base_uri": "https://localhost:8080/"
        },
        "id": "A-rtahCrnRrv",
        "outputId": "41da1e1f-38d2-426b-a074-4e0b936fac0c"
      },
      "execution_count": 14,
      "outputs": [
        {
          "output_type": "stream",
          "name": "stdout",
          "text": [
            " * sqlite:///chinook.db\n",
            "Done.\n"
          ]
        },
        {
          "output_type": "execute_result",
          "data": {
            "text/plain": [
              "[]"
            ]
          },
          "metadata": {},
          "execution_count": 14
        }
      ]
    },
    {
      "cell_type": "code",
      "source": [
        "%sql SELECT name FROM sqlite_master WHERE type=='table';"
      ],
      "metadata": {
        "colab": {
          "base_uri": "https://localhost:8080/",
          "height": 374
        },
        "id": "yOykRMBNoRVh",
        "outputId": "02c13188-dd77-4bdb-9ed0-a8d807e6d83a"
      },
      "execution_count": 15,
      "outputs": [
        {
          "output_type": "stream",
          "name": "stdout",
          "text": [
            " * sqlite:///chinook.db\n",
            "Done.\n"
          ]
        },
        {
          "output_type": "execute_result",
          "data": {
            "text/plain": [
              "[('albums',),\n",
              " ('sqlite_sequence',),\n",
              " ('artists',),\n",
              " ('customers',),\n",
              " ('employees',),\n",
              " ('genres',),\n",
              " ('invoices',),\n",
              " ('invoice_items',),\n",
              " ('media_types',),\n",
              " ('playlists',),\n",
              " ('playlist_track',),\n",
              " ('tracks',),\n",
              " ('sqlite_stat1',),\n",
              " ('lecture',)]"
            ],
            "text/html": [
              "<table>\n",
              "    <thead>\n",
              "        <tr>\n",
              "            <th>name</th>\n",
              "        </tr>\n",
              "    </thead>\n",
              "    <tbody>\n",
              "        <tr>\n",
              "            <td>albums</td>\n",
              "        </tr>\n",
              "        <tr>\n",
              "            <td>sqlite_sequence</td>\n",
              "        </tr>\n",
              "        <tr>\n",
              "            <td>artists</td>\n",
              "        </tr>\n",
              "        <tr>\n",
              "            <td>customers</td>\n",
              "        </tr>\n",
              "        <tr>\n",
              "            <td>employees</td>\n",
              "        </tr>\n",
              "        <tr>\n",
              "            <td>genres</td>\n",
              "        </tr>\n",
              "        <tr>\n",
              "            <td>invoices</td>\n",
              "        </tr>\n",
              "        <tr>\n",
              "            <td>invoice_items</td>\n",
              "        </tr>\n",
              "        <tr>\n",
              "            <td>media_types</td>\n",
              "        </tr>\n",
              "        <tr>\n",
              "            <td>playlists</td>\n",
              "        </tr>\n",
              "        <tr>\n",
              "            <td>playlist_track</td>\n",
              "        </tr>\n",
              "        <tr>\n",
              "            <td>tracks</td>\n",
              "        </tr>\n",
              "        <tr>\n",
              "            <td>sqlite_stat1</td>\n",
              "        </tr>\n",
              "        <tr>\n",
              "            <td>lecture</td>\n",
              "        </tr>\n",
              "    </tbody>\n",
              "</table>"
            ]
          },
          "metadata": {},
          "execution_count": 15
        }
      ]
    },
    {
      "cell_type": "code",
      "source": [
        "%sql PRAGMA table_info(\"lecture\");"
      ],
      "metadata": {
        "colab": {
          "base_uri": "https://localhost:8080/",
          "height": 203
        },
        "id": "vjNm5r7won1o",
        "outputId": "dd14457c-4860-4951-cfc1-aefbf63aaf44"
      },
      "execution_count": 16,
      "outputs": [
        {
          "output_type": "stream",
          "name": "stdout",
          "text": [
            " * sqlite:///chinook.db\n",
            "Done.\n"
          ]
        },
        {
          "output_type": "execute_result",
          "data": {
            "text/plain": [
              "[(0, 'First_Name', 'VARCHAR(20)', 0, None, 0),\n",
              " (1, 'Last_Name', 'VARCHAR(20)', 0, None, 0),\n",
              " (2, 'Department', 'VARCHAR(30)', 0, None, 0),\n",
              " (3, 'Salary', 'INT (15)', 0, None, 0),\n",
              " (4, 'Worker_Id', 'INT', 1, None, 1),\n",
              " (5, 'Age', 'INT(3)', 0, None, 0)]"
            ],
            "text/html": [
              "<table>\n",
              "    <thead>\n",
              "        <tr>\n",
              "            <th>cid</th>\n",
              "            <th>name</th>\n",
              "            <th>type</th>\n",
              "            <th>notnull</th>\n",
              "            <th>dflt_value</th>\n",
              "            <th>pk</th>\n",
              "        </tr>\n",
              "    </thead>\n",
              "    <tbody>\n",
              "        <tr>\n",
              "            <td>0</td>\n",
              "            <td>First_Name</td>\n",
              "            <td>VARCHAR(20)</td>\n",
              "            <td>0</td>\n",
              "            <td>None</td>\n",
              "            <td>0</td>\n",
              "        </tr>\n",
              "        <tr>\n",
              "            <td>1</td>\n",
              "            <td>Last_Name</td>\n",
              "            <td>VARCHAR(20)</td>\n",
              "            <td>0</td>\n",
              "            <td>None</td>\n",
              "            <td>0</td>\n",
              "        </tr>\n",
              "        <tr>\n",
              "            <td>2</td>\n",
              "            <td>Department</td>\n",
              "            <td>VARCHAR(30)</td>\n",
              "            <td>0</td>\n",
              "            <td>None</td>\n",
              "            <td>0</td>\n",
              "        </tr>\n",
              "        <tr>\n",
              "            <td>3</td>\n",
              "            <td>Salary</td>\n",
              "            <td>INT (15)</td>\n",
              "            <td>0</td>\n",
              "            <td>None</td>\n",
              "            <td>0</td>\n",
              "        </tr>\n",
              "        <tr>\n",
              "            <td>4</td>\n",
              "            <td>Worker_Id</td>\n",
              "            <td>INT</td>\n",
              "            <td>1</td>\n",
              "            <td>None</td>\n",
              "            <td>1</td>\n",
              "        </tr>\n",
              "        <tr>\n",
              "            <td>5</td>\n",
              "            <td>Age</td>\n",
              "            <td>INT(3)</td>\n",
              "            <td>0</td>\n",
              "            <td>None</td>\n",
              "            <td>0</td>\n",
              "        </tr>\n",
              "    </tbody>\n",
              "</table>"
            ]
          },
          "metadata": {},
          "execution_count": 16
        }
      ]
    },
    {
      "cell_type": "code",
      "source": [
        "%%sql ALTER TABLE lecture\n",
        "ADD email VARCHAR (40);"
      ],
      "metadata": {
        "colab": {
          "base_uri": "https://localhost:8080/"
        },
        "id": "fJM_KEoVpAax",
        "outputId": "cdd90642-866b-47cf-eb61-c9aa08877ad8"
      },
      "execution_count": 17,
      "outputs": [
        {
          "output_type": "stream",
          "name": "stdout",
          "text": [
            " * sqlite:///chinook.db\n",
            "Done.\n"
          ]
        },
        {
          "output_type": "execute_result",
          "data": {
            "text/plain": [
              "[]"
            ]
          },
          "metadata": {},
          "execution_count": 17
        }
      ]
    },
    {
      "cell_type": "code",
      "source": [
        "%sql PRAGMA table_info(\"lecture\");"
      ],
      "metadata": {
        "colab": {
          "base_uri": "https://localhost:8080/",
          "height": 225
        },
        "id": "cd7Mk_u9pSkx",
        "outputId": "8843ecf3-6b0d-4664-e3f9-2926dc4d80ca"
      },
      "execution_count": 18,
      "outputs": [
        {
          "output_type": "stream",
          "name": "stdout",
          "text": [
            " * sqlite:///chinook.db\n",
            "Done.\n"
          ]
        },
        {
          "output_type": "execute_result",
          "data": {
            "text/plain": [
              "[(0, 'First_Name', 'VARCHAR(20)', 0, None, 0),\n",
              " (1, 'Last_Name', 'VARCHAR(20)', 0, None, 0),\n",
              " (2, 'Department', 'VARCHAR(30)', 0, None, 0),\n",
              " (3, 'Salary', 'INT (15)', 0, None, 0),\n",
              " (4, 'Worker_Id', 'INT', 1, None, 1),\n",
              " (5, 'Age', 'INT(3)', 0, None, 0),\n",
              " (6, 'email', 'VARCHAR (40)', 0, None, 0)]"
            ],
            "text/html": [
              "<table>\n",
              "    <thead>\n",
              "        <tr>\n",
              "            <th>cid</th>\n",
              "            <th>name</th>\n",
              "            <th>type</th>\n",
              "            <th>notnull</th>\n",
              "            <th>dflt_value</th>\n",
              "            <th>pk</th>\n",
              "        </tr>\n",
              "    </thead>\n",
              "    <tbody>\n",
              "        <tr>\n",
              "            <td>0</td>\n",
              "            <td>First_Name</td>\n",
              "            <td>VARCHAR(20)</td>\n",
              "            <td>0</td>\n",
              "            <td>None</td>\n",
              "            <td>0</td>\n",
              "        </tr>\n",
              "        <tr>\n",
              "            <td>1</td>\n",
              "            <td>Last_Name</td>\n",
              "            <td>VARCHAR(20)</td>\n",
              "            <td>0</td>\n",
              "            <td>None</td>\n",
              "            <td>0</td>\n",
              "        </tr>\n",
              "        <tr>\n",
              "            <td>2</td>\n",
              "            <td>Department</td>\n",
              "            <td>VARCHAR(30)</td>\n",
              "            <td>0</td>\n",
              "            <td>None</td>\n",
              "            <td>0</td>\n",
              "        </tr>\n",
              "        <tr>\n",
              "            <td>3</td>\n",
              "            <td>Salary</td>\n",
              "            <td>INT (15)</td>\n",
              "            <td>0</td>\n",
              "            <td>None</td>\n",
              "            <td>0</td>\n",
              "        </tr>\n",
              "        <tr>\n",
              "            <td>4</td>\n",
              "            <td>Worker_Id</td>\n",
              "            <td>INT</td>\n",
              "            <td>1</td>\n",
              "            <td>None</td>\n",
              "            <td>1</td>\n",
              "        </tr>\n",
              "        <tr>\n",
              "            <td>5</td>\n",
              "            <td>Age</td>\n",
              "            <td>INT(3)</td>\n",
              "            <td>0</td>\n",
              "            <td>None</td>\n",
              "            <td>0</td>\n",
              "        </tr>\n",
              "        <tr>\n",
              "            <td>6</td>\n",
              "            <td>email</td>\n",
              "            <td>VARCHAR (40)</td>\n",
              "            <td>0</td>\n",
              "            <td>None</td>\n",
              "            <td>0</td>\n",
              "        </tr>\n",
              "    </tbody>\n",
              "</table>"
            ]
          },
          "metadata": {},
          "execution_count": 18
        }
      ]
    }
  ]
}